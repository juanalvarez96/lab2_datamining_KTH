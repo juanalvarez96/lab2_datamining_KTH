{
  "nbformat": 4,
  "nbformat_minor": 0,
  "metadata": {
    "colab": {
      "name": "Copy of lab3.ipynb",
      "provenance": [],
      "collapsed_sections": []
    },
    "kernelspec": {
      "name": "python3",
      "display_name": "Python 3"
    }
  },
  "cells": [
    {
      "cell_type": "code",
      "metadata": {
        "id": "doO5b7bUs9zE"
      },
      "source": [
        "import re\n",
        "import networkx as nx\n",
        "import random\n",
        "import numpy as np\n",
        "import pdb\n",
        "import datetime"
      ],
      "execution_count": 25,
      "outputs": []
    },
    {
      "cell_type": "code",
      "metadata": {
        "id": "558F-ROWxCQg"
      },
      "source": [
        "p = re.compile(\"\\d+\\d+\") # Regex expression to parse an edge\n",
        "def stringParser(a):\n",
        "  return [int(s) for s in a.split() if s.isdigit()]"
      ],
      "execution_count": 26,
      "outputs": []
    },
    {
      "cell_type": "code",
      "metadata": {
        "id": "Rqq5EcYxxC8D"
      },
      "source": [
        "# Function to sample wedges from edge_reservoir\n",
        "# We set k = 10^3\n",
        "def getWedges():\n",
        "  k = 10**3 # Wedge sampling param (see paper)\n",
        "  wedges=list() # List that will be returned\n",
        "  r1 = list(G) # Get all nodes as list\n",
        "  #pdb.set_trace()\n",
        "  sampling = random.sample(r1, len(r1)) if len(r1)<k else random.sample(r1,k) # Randomise all nodes (see paper)\n",
        "  for node in sampling:\n",
        "    if len(list(G[node]))>=2: # If a node has 2 or more edges\n",
        "      neighbors = random.sample(list(G[node]), 2) # Get neighbors\n",
        "      wedge = Wedge(node, neighbors[0], neighbors[1]) # create a wedge\n",
        "      wedges.append(wedge) # Add that node to wedges array, aka tot_wedges\n",
        "  return wedges\n"
      ],
      "execution_count": 27,
      "outputs": []
    },
    {
      "cell_type": "code",
      "metadata": {
        "id": "x1r7hf9IDa5C"
      },
      "source": [
        "# Class to define an edge of three nodes and check if it is closed\n",
        "\n",
        "class Wedge():\n",
        "  def __init__(self, node1, node2, node3):\n",
        "    self.node1 = node1\n",
        "    self.node2 = node2\n",
        "    self.node3 = node3\n",
        "  \n",
        "  # Function to know if current wedge is closed or not\n",
        "  def isClosed(self):\n",
        "    if (self.node3 in list(G[self.node1]) and self.node2 in list(G[self.node1]) and self.node3 in list(G[self.node2])):\n",
        "      return True\n",
        "    else:\n",
        "      return False\n",
        "  \n",
        "  # Function to get nodes as a list\n",
        "  def getNodes(self):\n",
        "    return [self.node1, self.node2, self.node3]\n"
      ],
      "execution_count": 28,
      "outputs": []
    },
    {
      "cell_type": "code",
      "metadata": {
        "id": "cRIibGPiiozw"
      },
      "source": [
        "# Main computation from the algorithm.\n",
        "def update(parsed):\n",
        "  #pdb.set_trace()\n",
        "  new_wedges = 0\n",
        "  Nt = [] # Array with new wedges from the current edge (parsed)\n",
        "  ind = False # This variable will indecate if there were any updates of edge_reservoir\n",
        "  ind2 = True # This indicates if we have to delete the edge from the nx graph\n",
        "  for i in range(0, wedge_size):\n",
        "    #pdb.set_trace()\n",
        "    if wedge_reservoir[i] != 0: # This is to avoid run errors with empty arrays\n",
        "      if wedge_reservoir[i].isClosed(): # Check if wedge is closed\n",
        "        isClosed[i] = True\n",
        "  for i in range(0, edge_size): # Reservoir sampling over edge_reservoir\n",
        "    x = random.random()\n",
        "    if x <= 1/t:\n",
        "      edge_reservoir[i] = parsed\n",
        "      ind = True # We have modified the edge_reservoir\n",
        "      ind2 = False # This keeps the edge in the graph\n",
        "  if ind == True: # We added a new edge!\n",
        "    wedges = getWedges() # Get a sample of wedges from the graph\n",
        "    tot_wedges = len(wedges) # Number of wedges\n",
        "    if tot_wedges != 0: # This happens if there were new wedges\n",
        "      #pdb.set_trace()\n",
        "      for wedge in wedges:\n",
        "        # If the new wedges are linked with the edge attribute (et), append to Nt\n",
        "        if parsed[0] in wedge.getNodes() or parsed[1] in wedge.getNodes(): \n",
        "          Nt.append(wedge)\n",
        "          new_wedges = len(Nt)\n",
        "      for i in range(0, wedge_size): # Reservoir sampling over wedge_reservoir\n",
        "        x = random.random()\n",
        "        #pdb.set_trace()\n",
        "        if x <= new_wedges/tot_wedges:\n",
        "          #print(\"Tot_wedges is {}\".format(tot_wedges))\n",
        "          #pdb.set_trace()\n",
        "          w = random.choice(Nt)\n",
        "          wedge_reservoir[i] = w\n",
        "          isClosed[i] = False\n",
        "  if ind2==True: # We didn't modify edge_reservoir, so delete edge\n",
        "    #pdb.set_trace()\n",
        "    G.remove_edges_from([tuple(parsed)]) # Remove that edge from graph\n",
        "    tot_wedges = 0 # We know this hasn't changed\n",
        "  return tot_wedges"
      ],
      "execution_count": 62,
      "outputs": []
    },
    {
      "cell_type": "code",
      "metadata": {
        "id": "WpXEfW9OtVbE"
      },
      "source": [
        "# Initialization\n",
        "global tot_wedges\n",
        "iterations = []\n",
        "minutes = 5\n",
        "endTime = datetime.datetime.now() + datetime.timedelta(minutes=minutes) # Set a time algorithm can be running\n",
        "edge_size = 100\n",
        "edge_reservoir = list(np.zeros(edge_size))\n",
        "wedge_size = 100\n",
        "wedge_reservoir = list(np.zeros(wedge_size))\n",
        "#pdb.set_trace()\n",
        "isClosed = list(np.zeros(wedge_size))\n",
        "G = nx.Graph() # Create graph. It will have the same edges as edge_reservoir\n",
        "fileName = \"/content/drive/MyDrive/Colab Notebooks/lab3_dm/web-BerkStan.txt\" # large data\n",
        "#fileName = \"/content/drive/MyDrive/Colab Notebooks/lab3_dm/graph_short.txt\" # short data\n",
        "t = 1 # Number of lines read (index of et)\n",
        "triangle_count = [] # Number of triangles\n",
        "transitivity = [] # Transitivity values\n",
        "with open(fileName, 'r+') as f:\n",
        "    # Beginning of algorithm\n",
        "    for edge in f: # For each new edge from the graph:\n",
        "      tot_wedges = 0 # Initialize total_wedges to 0\n",
        "      parsed = stringParser(edge) # Parse the edge to ints\n",
        "      G.add_edges_from([tuple(parsed)]) # Add that edge to main graph. We need it for isClosed to work!\n",
        "      #pdb.set_trace()\n",
        "      try:\n",
        "        tot_wedges = update(tuple(parsed))\n",
        "      except:\n",
        "        #pdb.set_trace()\n",
        "        print(\"Unexpected error, printing variables:\")\n",
        "        print(\"Triangle avg: {}\".format(sum(triangle_count) / len(triangle_count)))\n",
        "        print(\"Transitivity avg: {}\".format(sum(transitivity)/len(transitivity)))\n",
        "        print(\"Iterations t :{}\".format(t))\n",
        "        raise\n",
        "      ro = sum(isClosed) # Parameter for computing triangles\n",
        "      kt = 3*ro # Transitivity\n",
        "      #if kt != 0:\n",
        "        #pdb.set_trace()\n",
        "      Tt= ((ro*t**2)/(edge_size*(edge_size-1)))*tot_wedges # Triangle count\n",
        "      t = t+1 # Update edge count\n",
        "      iterations.append(t)\n",
        "      triangle_count.append(Tt) # Add to list\n",
        "      transitivity.append(kt) # Add to list\n",
        "      if datetime.datetime.now() >= endTime:\n",
        "        break\n",
        "      \n",
        "      #print(\"Kt is {} and Tt is {}\".format(kt, Tt))\n",
        "      #print(\"Number of line is {}\".format(t))"
      ],
      "execution_count": 72,
      "outputs": []
    },
    {
      "cell_type": "code",
      "metadata": {
        "id": "DCVX6x1FmQAl",
        "colab": {
          "base_uri": "https://localhost:8080/",
          "height": 329
        },
        "outputId": "37bc08fb-d4e0-47f8-aaec-ade156b09f7e"
      },
      "source": [
        "%matplotlib inline\n",
        "import matplotlib.pyplot as plt\n",
        "plt.plot(iterations, triangle_count)\n",
        "plt.title(\"Triangles vs iterations\")\n",
        "plt.xlabel(\"Iterations\")\n",
        "plt.ylabel(\"Triangle count\")\n",
        "plt.figure()"
      ],
      "execution_count": 73,
      "outputs": [
        {
          "output_type": "execute_result",
          "data": {
            "text/plain": [
              "<Figure size 432x288 with 0 Axes>"
            ]
          },
          "metadata": {
            "tags": []
          },
          "execution_count": 73
        },
        {
          "output_type": "display_data",
          "data": {
            "image/png": "[encoded data removed]",
            "text/plain": [
              "<Figure size 432x288 with 1 Axes>"
            ]
          },
          "metadata": {
            "tags": [],
            "needs_background": "light"
          }
        },
        {
          "output_type": "display_data",
          "data": {
            "text/plain": [
              "<Figure size 432x288 with 0 Axes>"
            ]
          },
          "metadata": {
            "tags": []
          }
        }
      ]
    },
    {
      "cell_type": "code",
      "metadata": {
        "id": "ACvQFCNHmW9U",
        "colab": {
          "base_uri": "https://localhost:8080/",
          "height": 329
        },
        "outputId": "4da898a0-05bc-4152-dc37-3ef71440fada"
      },
      "source": [
        "%matplotlib inline\n",
        "import matplotlib.pyplot as plt\n",
        "plt.plot(iterations, transitivity)\n",
        "plt.title(\"Transitivity vs iterations\")\n",
        "plt.xlabel(\"Iterations\")\n",
        "plt.ylabel(\"Transitivity\")\n",
        "plt.figure()"
      ],
      "execution_count": 74,
      "outputs": [
        {
          "output_type": "execute_result",
          "data": {
            "text/plain": [
              "<Figure size 432x288 with 0 Axes>"
            ]
          },
          "metadata": {
            "tags": []
          },
          "execution_count": 74
        },
        {
          "output_type": "display_data",
          "data": {
            "image/png": "[encoded data removed]",
            "text/plain": [
              "<Figure size 432x288 with 1 Axes>"
            ]
          },
          "metadata": {
            "tags": [],
            "needs_background": "light"
          }
        },
        {
          "output_type": "display_data",
          "data": {
            "text/plain": [
              "<Figure size 432x288 with 0 Axes>"
            ]
          },
          "metadata": {
            "tags": []
          }
        }
      ]
    },
    {
      "cell_type": "code",
      "metadata": {
        "id": "VIh8yxqJLNhq"
      },
      "source": [
        ""
      ],
      "execution_count": null,
      "outputs": []
    }
  ]
}